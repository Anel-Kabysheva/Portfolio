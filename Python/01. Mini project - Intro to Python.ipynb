{
 "cells": [
  {
   "cell_type": "markdown",
   "id": "74b5d472",
   "metadata": {},
   "source": [
    "# Мини проект 1"
   ]
  },
  {
   "cell_type": "markdown",
   "id": "cc4f6ca8",
   "metadata": {},
   "source": [
    "Вам дан файл users.txt. Вы должны сделать следующие действия:\n",
    "\n",
    "1) Прочитать этот файл построчно. Пожалуйста, используйте для этого try catch. Если файл не найден, напечатайте следующий текст: «the file that you would like to read is not found». Для любых других ошибок, пожалуйста, напечатайте следующее сообщение: \"some error occured\"\n",
    "     \n",
    "     \n",
    "2) Создайте класс Users со следующими атрибутами и функциями:\n",
    "\n",
    "     a) имя\n",
    "     \n",
    "     b) фамилия\n",
    "     \n",
    "     c) год рождения\n",
    "     \n",
    "     d) адрес электронной почты\n",
    "     \n",
    "     e) getAge(): возвращает возраст пользователя, принимая во внимание, что текущий год 2023\n",
    "     \n",
    "     \n",
    "3) преобразовать каждую строку файла в объект класса Users и сохранить их все в списке. Чтобы разделить слова, разделенные запятой, используйте функцию split(). Например, если: s = \"a,b,c\", тогда t = s.split(',') вернет ['a', 'b', 'c']. Таким образом разделите данные в каждой строке на отдельные части и присвойте эти значения атрибутам класса «Users».\n",
    "\n",
    "\n",
    "4) написать функцию filter(low, high, users), которая будет принимать параметры по умолчанию \"low\"=30, \"high\"=50 и простой параметр - список объектов класса Users. Функция должна пройтись по всем пользователям и проверить возраст с параметрами low и high. Мы должны вернуть только тех пользователей, чей возраст выше нижнего параметра low и ниже верхнего параметра high. Распечатайте их адрес электронной почты и возраст. Пожалуйста, разделите данные (адрес электронной почты и возраст) запятой. Затем вызовите эту функцию."
   ]
  },
  {
   "cell_type": "markdown",
   "id": "7b4ffd06-909b-4efb-aa1c-2c99173b6ac3",
   "metadata": {},
   "source": [
    "1. Прочитать этот файл построчно. Пожалуйста, используйте для этого try catch. Если файл не найден, напечатайте следующий текст: «the file that you would like to read is not found». Для любых других ошибок, пожалуйста, напечатайте следующее сообщение: \"some error occured\""
   ]
  },
  {
   "cell_type": "code",
   "execution_count": 1,
   "id": "e9090ec1-b982-4545-916c-420fb703b14f",
   "metadata": {},
   "outputs": [],
   "source": [
    "try:\n",
    "    with open('users.txt', 'r') as file:\n",
    "        lines = file.readlines()\n",
    "except FileNotFoundError:\n",
    "    print(\"the file that you would like to read is not found\")\n",
    "except Exception:\n",
    "    print(\"some error occured\")"
   ]
  },
  {
   "cell_type": "markdown",
   "id": "81d6f893-f015-42c4-8ca9-7393daa94542",
   "metadata": {},
   "source": [
    "2. Создайте класс Users со следующими атрибутами и функциями:\n",
    "\n",
    "a) имя\n",
    "\n",
    "b) фамилия\n",
    "\n",
    "c) год рождения\n",
    "\n",
    "d) адрес электронной почты\n",
    "\n",
    "e) getAge(): возвращает возраст пользователя, принимая во внимание, что текущий год 2023"
   ]
  },
  {
   "cell_type": "code",
   "execution_count": 5,
   "id": "047a9fb6-79b1-4e19-8ffa-566239c26930",
   "metadata": {},
   "outputs": [],
   "source": [
    "class Users:\n",
    "    def __init__(self, first_name, last_name, birth_year, email):\n",
    "        self.first_name = first_name\n",
    "        self.last_name = last_name\n",
    "        self.birth_year = int(birth_year)\n",
    "        self.email = email\n",
    "\n",
    "    def get_age(self):\n",
    "        return 2023 - self.birth_year"
   ]
  },
  {
   "cell_type": "markdown",
   "id": "3ec0c015-74ac-441b-b717-0316283f8d51",
   "metadata": {},
   "source": [
    "3. преобразовать каждую строку файла в объект класса Users и сохранить их все в списке. \n",
    "Чтобы разделить слова, разделенные запятой, используйте функцию split(). Например, если: s = \"a,b,c\", тогда t = s.split(',') вернет ['a', 'b', 'c']. \n",
    "Таким образом разделите данные в каждой строке на отдельные части и присвойте эти значения атрибутам класса «Users»"
   ]
  },
  {
   "cell_type": "code",
   "execution_count": 3,
   "id": "8d78d03e-0e18-4eff-98d5-80df922ad051",
   "metadata": {},
   "outputs": [],
   "source": [
    "users_list = []\n",
    "\n",
    "try:\n",
    "    with open('users.txt', 'r') as file:\n",
    "        for line in file:\n",
    "            parts = line.strip().split(',')\n",
    "            if len(parts) == 4:\n",
    "                user = Users(parts[0], parts[1], parts[2], parts[3])\n",
    "                users_list.append(user)\n",
    "except FileNotFoundError:\n",
    "    print(\"the file that you would like to read is not found\")\n",
    "except Exception:\n",
    "    print(\"some error occured\")\n"
   ]
  },
  {
   "cell_type": "markdown",
   "id": "68f9740a-1bb2-4dde-9c26-57421a300302",
   "metadata": {},
   "source": [
    "4. написать функцию filter(low, high, users), которая будет принимать параметры по умолчанию \"low\"=30, \"high\"=50 и простой параметр - список объектов класса Users. Функция должна пройтись по всем пользователям и проверить возраст с параметрами low и high. \n",
    "Мы должны вернуть только тех пользователей, чей возраст выше нижнего параметра low и ниже верхнего параметра high. Распечатайте их адрес электронной почты и возраст. Пожалуйста, разделите данные (адрес электронной почты и возраст) запятой. Затем вызовите эту функцию."
   ]
  },
  {
   "cell_type": "code",
   "execution_count": 9,
   "id": "7ba39b00-9fd3-4ae2-ae7f-eb7adf11ed19",
   "metadata": {},
   "outputs": [],
   "source": [
    "def filter(low=30, high=50, users=[]):\n",
    "    for user in users:\n",
    "        age = user.get_age()\n",
    "        if low < age < high:\n",
    "            print(f\"{user.email},{age}\")\n",
    "\n",
    "filter(users=users_list)\n"
   ]
  }
 ],
 "metadata": {
  "kernelspec": {
   "display_name": "Python 3 (ipykernel)",
   "language": "python",
   "name": "python3"
  },
  "language_info": {
   "codemirror_mode": {
    "name": "ipython",
    "version": 3
   },
   "file_extension": ".py",
   "mimetype": "text/x-python",
   "name": "python",
   "nbconvert_exporter": "python",
   "pygments_lexer": "ipython3",
   "version": "3.12.7"
  }
 },
 "nbformat": 4,
 "nbformat_minor": 5
}
